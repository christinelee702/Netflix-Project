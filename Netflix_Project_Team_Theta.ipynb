{
 "cells": [
  {
   "cell_type": "markdown",
   "metadata": {
    "id": "0QcU2b-ax3K7"
   },
   "source": [
    "#**Netflix Movies and Shows Dataset -- Team Theta**\n",
    "\n",
    "\n",
    "\n"
   ]
  },
  {
   "cell_type": "markdown",
   "metadata": {
    "id": "Mm3xncyxx02n"
   },
   "source": [
    "### Questions\n",
    "##### 1. Which countries produce the most content on Netflix?  \n",
    "##### 2. How has the number of movies released changed over the years? \n",
    "##### 3. What are the most frequently occurring genres on Netflix? \n",
    "##### 4. Based on the description what tv show/movie is most similar? "
   ]
  },
  {
   "cell_type": "code",
   "execution_count": 1,
   "metadata": {
    "colab": {
     "base_uri": "https://localhost:8080/",
     "height": 675
    },
    "id": "hkeQoZqjR8zb",
    "outputId": "b2585d0f-18f3-4036-edce-1dcd11a9157b"
   },
   "outputs": [
    {
     "name": "stdout",
     "output_type": "stream",
     "text": [
      "Requirement already satisfied: clean-text in c:\\users\\william\\anaconda3\\lib\\site-packages (0.6.0)\n",
      "Requirement already satisfied: emoji<2.0.0,>=1.0.0 in c:\\users\\william\\anaconda3\\lib\\site-packages (from clean-text) (1.7.0)\n",
      "Requirement already satisfied: ftfy<7.0,>=6.0 in c:\\users\\william\\anaconda3\\lib\\site-packages (from clean-text) (6.1.1)\n",
      "Requirement already satisfied: wcwidth>=0.2.5 in c:\\users\\william\\anaconda3\\lib\\site-packages (from ftfy<7.0,>=6.0->clean-text) (0.2.5)\n"
     ]
    },
    {
     "data": {
      "text/html": [
       "<div>\n",
       "<style scoped>\n",
       "    .dataframe tbody tr th:only-of-type {\n",
       "        vertical-align: middle;\n",
       "    }\n",
       "\n",
       "    .dataframe tbody tr th {\n",
       "        vertical-align: top;\n",
       "    }\n",
       "\n",
       "    .dataframe thead th {\n",
       "        text-align: right;\n",
       "    }\n",
       "</style>\n",
       "<table border=\"1\" class=\"dataframe\">\n",
       "  <thead>\n",
       "    <tr style=\"text-align: right;\">\n",
       "      <th></th>\n",
       "      <th>id</th>\n",
       "      <th>title</th>\n",
       "      <th>type</th>\n",
       "      <th>description</th>\n",
       "      <th>release_year</th>\n",
       "      <th>age_certification</th>\n",
       "      <th>runtime</th>\n",
       "      <th>genres</th>\n",
       "      <th>production_countries</th>\n",
       "      <th>seasons</th>\n",
       "      <th>imdb_id</th>\n",
       "      <th>imdb_score</th>\n",
       "      <th>imdb_votes</th>\n",
       "      <th>tmdb_popularity</th>\n",
       "      <th>tmdb_score</th>\n",
       "    </tr>\n",
       "  </thead>\n",
       "  <tbody>\n",
       "    <tr>\n",
       "      <th>0</th>\n",
       "      <td>ts300399</td>\n",
       "      <td>Five Came Back: The Reference Films</td>\n",
       "      <td>SHOW</td>\n",
       "      <td>This collection includes 12 World War II-era p...</td>\n",
       "      <td>1945</td>\n",
       "      <td>TV-MA</td>\n",
       "      <td>51</td>\n",
       "      <td>['documentation']</td>\n",
       "      <td>['US']</td>\n",
       "      <td>1.0</td>\n",
       "      <td>NaN</td>\n",
       "      <td>NaN</td>\n",
       "      <td>NaN</td>\n",
       "      <td>0.600</td>\n",
       "      <td>NaN</td>\n",
       "    </tr>\n",
       "    <tr>\n",
       "      <th>1</th>\n",
       "      <td>tm84618</td>\n",
       "      <td>Taxi Driver</td>\n",
       "      <td>MOVIE</td>\n",
       "      <td>A mentally unstable Vietnam War veteran works ...</td>\n",
       "      <td>1976</td>\n",
       "      <td>R</td>\n",
       "      <td>114</td>\n",
       "      <td>['drama', 'crime']</td>\n",
       "      <td>['US']</td>\n",
       "      <td>NaN</td>\n",
       "      <td>tt0075314</td>\n",
       "      <td>8.2</td>\n",
       "      <td>808582.0</td>\n",
       "      <td>40.965</td>\n",
       "      <td>8.179</td>\n",
       "    </tr>\n",
       "    <tr>\n",
       "      <th>2</th>\n",
       "      <td>tm154986</td>\n",
       "      <td>Deliverance</td>\n",
       "      <td>MOVIE</td>\n",
       "      <td>Intent on seeing the Cahulawassee River before...</td>\n",
       "      <td>1972</td>\n",
       "      <td>R</td>\n",
       "      <td>109</td>\n",
       "      <td>['drama', 'action', 'thriller', 'european']</td>\n",
       "      <td>['US']</td>\n",
       "      <td>NaN</td>\n",
       "      <td>tt0068473</td>\n",
       "      <td>7.7</td>\n",
       "      <td>107673.0</td>\n",
       "      <td>10.010</td>\n",
       "      <td>7.300</td>\n",
       "    </tr>\n",
       "    <tr>\n",
       "      <th>3</th>\n",
       "      <td>tm127384</td>\n",
       "      <td>Monty Python and the Holy Grail</td>\n",
       "      <td>MOVIE</td>\n",
       "      <td>King Arthur, accompanied by his squire, recrui...</td>\n",
       "      <td>1975</td>\n",
       "      <td>PG</td>\n",
       "      <td>91</td>\n",
       "      <td>['fantasy', 'action', 'comedy']</td>\n",
       "      <td>['GB']</td>\n",
       "      <td>NaN</td>\n",
       "      <td>tt0071853</td>\n",
       "      <td>8.2</td>\n",
       "      <td>534486.0</td>\n",
       "      <td>15.461</td>\n",
       "      <td>7.811</td>\n",
       "    </tr>\n",
       "    <tr>\n",
       "      <th>4</th>\n",
       "      <td>tm120801</td>\n",
       "      <td>The Dirty Dozen</td>\n",
       "      <td>MOVIE</td>\n",
       "      <td>12 American military prisoners in World War II...</td>\n",
       "      <td>1967</td>\n",
       "      <td>NaN</td>\n",
       "      <td>150</td>\n",
       "      <td>['war', 'action']</td>\n",
       "      <td>['GB', 'US']</td>\n",
       "      <td>NaN</td>\n",
       "      <td>tt0061578</td>\n",
       "      <td>7.7</td>\n",
       "      <td>72662.0</td>\n",
       "      <td>20.398</td>\n",
       "      <td>7.600</td>\n",
       "    </tr>\n",
       "  </tbody>\n",
       "</table>\n",
       "</div>"
      ],
      "text/plain": [
       "         id                                title   type  \\\n",
       "0  ts300399  Five Came Back: The Reference Films   SHOW   \n",
       "1   tm84618                          Taxi Driver  MOVIE   \n",
       "2  tm154986                          Deliverance  MOVIE   \n",
       "3  tm127384      Monty Python and the Holy Grail  MOVIE   \n",
       "4  tm120801                      The Dirty Dozen  MOVIE   \n",
       "\n",
       "                                         description  release_year  \\\n",
       "0  This collection includes 12 World War II-era p...          1945   \n",
       "1  A mentally unstable Vietnam War veteran works ...          1976   \n",
       "2  Intent on seeing the Cahulawassee River before...          1972   \n",
       "3  King Arthur, accompanied by his squire, recrui...          1975   \n",
       "4  12 American military prisoners in World War II...          1967   \n",
       "\n",
       "  age_certification  runtime                                       genres  \\\n",
       "0             TV-MA       51                            ['documentation']   \n",
       "1                 R      114                           ['drama', 'crime']   \n",
       "2                 R      109  ['drama', 'action', 'thriller', 'european']   \n",
       "3                PG       91              ['fantasy', 'action', 'comedy']   \n",
       "4               NaN      150                            ['war', 'action']   \n",
       "\n",
       "  production_countries  seasons    imdb_id  imdb_score  imdb_votes  \\\n",
       "0               ['US']      1.0        NaN         NaN         NaN   \n",
       "1               ['US']      NaN  tt0075314         8.2    808582.0   \n",
       "2               ['US']      NaN  tt0068473         7.7    107673.0   \n",
       "3               ['GB']      NaN  tt0071853         8.2    534486.0   \n",
       "4         ['GB', 'US']      NaN  tt0061578         7.7     72662.0   \n",
       "\n",
       "   tmdb_popularity  tmdb_score  \n",
       "0            0.600         NaN  \n",
       "1           40.965       8.179  \n",
       "2           10.010       7.300  \n",
       "3           15.461       7.811  \n",
       "4           20.398       7.600  "
      ]
     },
     "execution_count": 1,
     "metadata": {},
     "output_type": "execute_result"
    }
   ],
   "source": [
    "import numpy as np\n",
    "import pandas as pd\n",
    "import seaborn as sns\n",
    "import plotly.express as px\n",
    "import matplotlib.pyplot as plt\n",
    "import scipy.stats\n",
    "import statsmodels.api as sm\n",
    "import os\n",
    "import math\n",
    "import string\n",
    "import ast\n",
    "import random\n",
    "!pip install clean-text\n",
    "\n",
    "%matplotlib inline\n",
    "\n",
    "#ML Libraries\n",
    "from sklearn.preprocessing import MinMaxScaler\n",
    "from sklearn.impute import SimpleImputer\n",
    "from sklearn.model_selection import GridSearchCV, train_test_split, cross_val_score\n",
    "from sklearn.compose import ColumnTransformer\n",
    "from sklearn.base import BaseEstimator, TransformerMixin\n",
    "from sklearn.preprocessing import StandardScaler\n",
    "\n",
    "#  NLTK Libraries\n",
    "import nltk\n",
    "from nltk.corpus import stopwords\n",
    "from nltk.tokenize import word_tokenize\n",
    "from nltk.stem import WordNetLemmatizer\n",
    "from sklearn.feature_extraction.text import CountVectorizer\n",
    "\n",
    "import warnings\n",
    "warnings.filterwarnings('ignore')\n",
    "\n",
    "df = pd.read_csv('titles.csv')\n",
    "df.head()"
   ]
  },
  {
   "cell_type": "markdown",
   "metadata": {
    "id": "kYBmEOIixSJQ"
   },
   "source": [
    "#Descriptive Analysis"
   ]
  },
  {
   "cell_type": "code",
   "execution_count": 2,
   "metadata": {
    "colab": {
     "base_uri": "https://localhost:8080/",
     "height": 183
    },
    "id": "DBGWWmVBSOlR",
    "outputId": "4beedb09-9fca-450d-e9cb-acfc1eef15b8"
   },
   "outputs": [
    {
     "name": "stdout",
     "output_type": "stream",
     "text": [
      "<class 'pandas.core.frame.DataFrame'>\n",
      "RangeIndex: 5850 entries, 0 to 5849\n",
      "Data columns (total 15 columns):\n",
      " #   Column                Non-Null Count  Dtype  \n",
      "---  ------                --------------  -----  \n",
      " 0   id                    5850 non-null   object \n",
      " 1   title                 5849 non-null   object \n",
      " 2   type                  5850 non-null   object \n",
      " 3   description           5832 non-null   object \n",
      " 4   release_year          5850 non-null   int64  \n",
      " 5   age_certification     3231 non-null   object \n",
      " 6   runtime               5850 non-null   int64  \n",
      " 7   genres                5850 non-null   object \n",
      " 8   production_countries  5850 non-null   object \n",
      " 9   seasons               2106 non-null   float64\n",
      " 10  imdb_id               5447 non-null   object \n",
      " 11  imdb_score            5368 non-null   float64\n",
      " 12  imdb_votes            5352 non-null   float64\n",
      " 13  tmdb_popularity       5759 non-null   float64\n",
      " 14  tmdb_score            5539 non-null   float64\n",
      "dtypes: float64(5), int64(2), object(8)\n",
      "memory usage: 685.7+ KB\n"
     ]
    }
   ],
   "source": [
    "# Info on data types, column names, counts, etc. \n",
    "df.info()"
   ]
  },
  {
   "cell_type": "code",
   "execution_count": 3,
   "metadata": {
    "colab": {
     "base_uri": "https://localhost:8080/"
    },
    "id": "PlSXhAsDTeRo",
    "outputId": "591099df-27c1-4356-c44a-a84c954b3a47"
   },
   "outputs": [
    {
     "data": {
      "text/plain": [
       "(5850, 15)"
      ]
     },
     "execution_count": 3,
     "metadata": {},
     "output_type": "execute_result"
    }
   ],
   "source": [
    "# shape of the original df \n",
    "df.shape"
   ]
  },
  {
   "cell_type": "code",
   "execution_count": 4,
   "metadata": {
    "colab": {
     "base_uri": "https://localhost:8080/",
     "height": 364
    },
    "id": "DIK5-BCVxNFv",
    "outputId": "1d366568-2148-49da-c095-4fde7a9a1822"
   },
   "outputs": [
    {
     "data": {
      "text/html": [
       "<div>\n",
       "<style scoped>\n",
       "    .dataframe tbody tr th:only-of-type {\n",
       "        vertical-align: middle;\n",
       "    }\n",
       "\n",
       "    .dataframe tbody tr th {\n",
       "        vertical-align: top;\n",
       "    }\n",
       "\n",
       "    .dataframe thead th {\n",
       "        text-align: right;\n",
       "    }\n",
       "</style>\n",
       "<table border=\"1\" class=\"dataframe\">\n",
       "  <thead>\n",
       "    <tr style=\"text-align: right;\">\n",
       "      <th></th>\n",
       "      <th>release_year</th>\n",
       "      <th>runtime</th>\n",
       "      <th>seasons</th>\n",
       "      <th>imdb_score</th>\n",
       "      <th>imdb_votes</th>\n",
       "      <th>tmdb_popularity</th>\n",
       "      <th>tmdb_score</th>\n",
       "    </tr>\n",
       "  </thead>\n",
       "  <tbody>\n",
       "    <tr>\n",
       "      <th>count</th>\n",
       "      <td>5850.000000</td>\n",
       "      <td>5850.000000</td>\n",
       "      <td>2106.000000</td>\n",
       "      <td>5368.000000</td>\n",
       "      <td>5.352000e+03</td>\n",
       "      <td>5759.000000</td>\n",
       "      <td>5539.000000</td>\n",
       "    </tr>\n",
       "    <tr>\n",
       "      <th>mean</th>\n",
       "      <td>2016.417094</td>\n",
       "      <td>76.888889</td>\n",
       "      <td>2.162868</td>\n",
       "      <td>6.510861</td>\n",
       "      <td>2.343938e+04</td>\n",
       "      <td>22.637925</td>\n",
       "      <td>6.829175</td>\n",
       "    </tr>\n",
       "    <tr>\n",
       "      <th>std</th>\n",
       "      <td>6.937726</td>\n",
       "      <td>39.002509</td>\n",
       "      <td>2.689041</td>\n",
       "      <td>1.163826</td>\n",
       "      <td>9.582047e+04</td>\n",
       "      <td>81.680263</td>\n",
       "      <td>1.170391</td>\n",
       "    </tr>\n",
       "    <tr>\n",
       "      <th>min</th>\n",
       "      <td>1945.000000</td>\n",
       "      <td>0.000000</td>\n",
       "      <td>1.000000</td>\n",
       "      <td>1.500000</td>\n",
       "      <td>5.000000e+00</td>\n",
       "      <td>0.009442</td>\n",
       "      <td>0.500000</td>\n",
       "    </tr>\n",
       "    <tr>\n",
       "      <th>25%</th>\n",
       "      <td>2016.000000</td>\n",
       "      <td>44.000000</td>\n",
       "      <td>1.000000</td>\n",
       "      <td>5.800000</td>\n",
       "      <td>5.167500e+02</td>\n",
       "      <td>2.728500</td>\n",
       "      <td>6.100000</td>\n",
       "    </tr>\n",
       "    <tr>\n",
       "      <th>50%</th>\n",
       "      <td>2018.000000</td>\n",
       "      <td>83.000000</td>\n",
       "      <td>1.000000</td>\n",
       "      <td>6.600000</td>\n",
       "      <td>2.233500e+03</td>\n",
       "      <td>6.821000</td>\n",
       "      <td>6.900000</td>\n",
       "    </tr>\n",
       "    <tr>\n",
       "      <th>75%</th>\n",
       "      <td>2020.000000</td>\n",
       "      <td>104.000000</td>\n",
       "      <td>2.000000</td>\n",
       "      <td>7.300000</td>\n",
       "      <td>9.494000e+03</td>\n",
       "      <td>16.590000</td>\n",
       "      <td>7.537500</td>\n",
       "    </tr>\n",
       "    <tr>\n",
       "      <th>max</th>\n",
       "      <td>2022.000000</td>\n",
       "      <td>240.000000</td>\n",
       "      <td>42.000000</td>\n",
       "      <td>9.600000</td>\n",
       "      <td>2.294231e+06</td>\n",
       "      <td>2274.044000</td>\n",
       "      <td>10.000000</td>\n",
       "    </tr>\n",
       "  </tbody>\n",
       "</table>\n",
       "</div>"
      ],
      "text/plain": [
       "       release_year      runtime      seasons   imdb_score    imdb_votes  \\\n",
       "count   5850.000000  5850.000000  2106.000000  5368.000000  5.352000e+03   \n",
       "mean    2016.417094    76.888889     2.162868     6.510861  2.343938e+04   \n",
       "std        6.937726    39.002509     2.689041     1.163826  9.582047e+04   \n",
       "min     1945.000000     0.000000     1.000000     1.500000  5.000000e+00   \n",
       "25%     2016.000000    44.000000     1.000000     5.800000  5.167500e+02   \n",
       "50%     2018.000000    83.000000     1.000000     6.600000  2.233500e+03   \n",
       "75%     2020.000000   104.000000     2.000000     7.300000  9.494000e+03   \n",
       "max     2022.000000   240.000000    42.000000     9.600000  2.294231e+06   \n",
       "\n",
       "       tmdb_popularity   tmdb_score  \n",
       "count      5759.000000  5539.000000  \n",
       "mean         22.637925     6.829175  \n",
       "std          81.680263     1.170391  \n",
       "min           0.009442     0.500000  \n",
       "25%           2.728500     6.100000  \n",
       "50%           6.821000     6.900000  \n",
       "75%          16.590000     7.537500  \n",
       "max        2274.044000    10.000000  "
      ]
     },
     "execution_count": 4,
     "metadata": {},
     "output_type": "execute_result"
    }
   ],
   "source": [
    "# the df described \n",
    "df.describe()"
   ]
  },
  {
   "cell_type": "code",
   "execution_count": 5,
   "metadata": {
    "colab": {
     "base_uri": "https://localhost:8080/",
     "height": 288
    },
    "id": "kl8q_DJaxnAM",
    "outputId": "b89a9988-67e7-4317-daf3-e1b77ac8e2df"
   },
   "outputs": [
    {
     "data": {
      "text/html": [
       "<style type=\"text/css\">\n",
       "#T_1ac26_row0_col0, #T_1ac26_row1_col1, #T_1ac26_row2_col2, #T_1ac26_row3_col3, #T_1ac26_row4_col4, #T_1ac26_row5_col5, #T_1ac26_row6_col6 {\n",
       "  background-color: #67000d;\n",
       "  color: #f1f1f1;\n",
       "}\n",
       "#T_1ac26_row0_col1 {\n",
       "  background-color: #fee8dd;\n",
       "  color: #000000;\n",
       "}\n",
       "#T_1ac26_row0_col2, #T_1ac26_row0_col4, #T_1ac26_row1_col3, #T_1ac26_row1_col5, #T_1ac26_row1_col6, #T_1ac26_row2_col0, #T_1ac26_row6_col1 {\n",
       "  background-color: #fff5f0;\n",
       "  color: #000000;\n",
       "}\n",
       "#T_1ac26_row0_col3 {\n",
       "  background-color: #fff2ec;\n",
       "  color: #000000;\n",
       "}\n",
       "#T_1ac26_row0_col5 {\n",
       "  background-color: #ffeee7;\n",
       "  color: #000000;\n",
       "}\n",
       "#T_1ac26_row0_col6, #T_1ac26_row1_col2 {\n",
       "  background-color: #fcbda4;\n",
       "  color: #000000;\n",
       "}\n",
       "#T_1ac26_row1_col0, #T_1ac26_row2_col3, #T_1ac26_row5_col1 {\n",
       "  background-color: #fcc4ad;\n",
       "  color: #000000;\n",
       "}\n",
       "#T_1ac26_row1_col4 {\n",
       "  background-color: #fcaf93;\n",
       "  color: #000000;\n",
       "}\n",
       "#T_1ac26_row2_col1 {\n",
       "  background-color: #fee3d7;\n",
       "  color: #000000;\n",
       "}\n",
       "#T_1ac26_row2_col4 {\n",
       "  background-color: #fc9d7f;\n",
       "  color: #000000;\n",
       "}\n",
       "#T_1ac26_row2_col5 {\n",
       "  background-color: #fdd4c2;\n",
       "  color: #000000;\n",
       "}\n",
       "#T_1ac26_row2_col6 {\n",
       "  background-color: #fcbba1;\n",
       "  color: #000000;\n",
       "}\n",
       "#T_1ac26_row3_col0 {\n",
       "  background-color: #fcbca2;\n",
       "  color: #000000;\n",
       "}\n",
       "#T_1ac26_row3_col1 {\n",
       "  background-color: #fee5d8;\n",
       "  color: #000000;\n",
       "}\n",
       "#T_1ac26_row3_col2 {\n",
       "  background-color: #fc8767;\n",
       "  color: #f1f1f1;\n",
       "}\n",
       "#T_1ac26_row3_col4 {\n",
       "  background-color: #fca183;\n",
       "  color: #000000;\n",
       "}\n",
       "#T_1ac26_row3_col5 {\n",
       "  background-color: #fff3ed;\n",
       "  color: #000000;\n",
       "}\n",
       "#T_1ac26_row3_col6 {\n",
       "  background-color: #e43027;\n",
       "  color: #f1f1f1;\n",
       "}\n",
       "#T_1ac26_row4_col0 {\n",
       "  background-color: #fdcbb6;\n",
       "  color: #000000;\n",
       "}\n",
       "#T_1ac26_row4_col1 {\n",
       "  background-color: #fca285;\n",
       "  color: #000000;\n",
       "}\n",
       "#T_1ac26_row4_col2 {\n",
       "  background-color: #fb7353;\n",
       "  color: #f1f1f1;\n",
       "}\n",
       "#T_1ac26_row4_col3 {\n",
       "  background-color: #fcad90;\n",
       "  color: #000000;\n",
       "}\n",
       "#T_1ac26_row4_col5 {\n",
       "  background-color: #fdc7b2;\n",
       "  color: #000000;\n",
       "}\n",
       "#T_1ac26_row4_col6 {\n",
       "  background-color: #fca98c;\n",
       "  color: #000000;\n",
       "}\n",
       "#T_1ac26_row5_col0, #T_1ac26_row6_col2 {\n",
       "  background-color: #fc9576;\n",
       "  color: #000000;\n",
       "}\n",
       "#T_1ac26_row5_col2 {\n",
       "  background-color: #fb7b5b;\n",
       "  color: #f1f1f1;\n",
       "}\n",
       "#T_1ac26_row5_col3 {\n",
       "  background-color: #fedbcc;\n",
       "  color: #000000;\n",
       "}\n",
       "#T_1ac26_row5_col4 {\n",
       "  background-color: #fc9c7d;\n",
       "  color: #000000;\n",
       "}\n",
       "#T_1ac26_row5_col6 {\n",
       "  background-color: #fcb398;\n",
       "  color: #000000;\n",
       "}\n",
       "#T_1ac26_row6_col0 {\n",
       "  background-color: #fc9879;\n",
       "  color: #000000;\n",
       "}\n",
       "#T_1ac26_row6_col3 {\n",
       "  background-color: #ee3a2c;\n",
       "  color: #f1f1f1;\n",
       "}\n",
       "#T_1ac26_row6_col4 {\n",
       "  background-color: #fcb69b;\n",
       "  color: #000000;\n",
       "}\n",
       "#T_1ac26_row6_col5 {\n",
       "  background-color: #feeae0;\n",
       "  color: #000000;\n",
       "}\n",
       "</style>\n",
       "<table id=\"T_1ac26\">\n",
       "  <thead>\n",
       "    <tr>\n",
       "      <th class=\"blank level0\" >&nbsp;</th>\n",
       "      <th id=\"T_1ac26_level0_col0\" class=\"col_heading level0 col0\" >release_year</th>\n",
       "      <th id=\"T_1ac26_level0_col1\" class=\"col_heading level0 col1\" >runtime</th>\n",
       "      <th id=\"T_1ac26_level0_col2\" class=\"col_heading level0 col2\" >seasons</th>\n",
       "      <th id=\"T_1ac26_level0_col3\" class=\"col_heading level0 col3\" >imdb_score</th>\n",
       "      <th id=\"T_1ac26_level0_col4\" class=\"col_heading level0 col4\" >imdb_votes</th>\n",
       "      <th id=\"T_1ac26_level0_col5\" class=\"col_heading level0 col5\" >tmdb_popularity</th>\n",
       "      <th id=\"T_1ac26_level0_col6\" class=\"col_heading level0 col6\" >tmdb_score</th>\n",
       "    </tr>\n",
       "  </thead>\n",
       "  <tbody>\n",
       "    <tr>\n",
       "      <th id=\"T_1ac26_level0_row0\" class=\"row_heading level0 row0\" >release_year</th>\n",
       "      <td id=\"T_1ac26_row0_col0\" class=\"data row0 col0\" >1.000000</td>\n",
       "      <td id=\"T_1ac26_row0_col1\" class=\"data row0 col1\" >-0.173551</td>\n",
       "      <td id=\"T_1ac26_row0_col2\" class=\"data row0 col2\" >-0.504407</td>\n",
       "      <td id=\"T_1ac26_row0_col3\" class=\"data row0 col3\" >-0.129380</td>\n",
       "      <td id=\"T_1ac26_row0_col4\" class=\"data row0 col4\" >-0.208815</td>\n",
       "      <td id=\"T_1ac26_row0_col5\" class=\"data row0 col5\" >0.043244</td>\n",
       "      <td id=\"T_1ac26_row0_col6\" class=\"data row0 col6\" >0.032073</td>\n",
       "    </tr>\n",
       "    <tr>\n",
       "      <th id=\"T_1ac26_level0_row1\" class=\"row_heading level0 row1\" >runtime</th>\n",
       "      <td id=\"T_1ac26_row1_col0\" class=\"data row1 col0\" >-0.173551</td>\n",
       "      <td id=\"T_1ac26_row1_col1\" class=\"data row1 col1\" >1.000000</td>\n",
       "      <td id=\"T_1ac26_row1_col2\" class=\"data row1 col2\" >-0.139642</td>\n",
       "      <td id=\"T_1ac26_row1_col3\" class=\"data row1 col3\" >-0.148068</td>\n",
       "      <td id=\"T_1ac26_row1_col4\" class=\"data row1 col4\" >0.139760</td>\n",
       "      <td id=\"T_1ac26_row1_col5\" class=\"data row1 col5\" >0.002545</td>\n",
       "      <td id=\"T_1ac26_row1_col6\" class=\"data row1 col6\" >-0.277454</td>\n",
       "    </tr>\n",
       "    <tr>\n",
       "      <th id=\"T_1ac26_level0_row2\" class=\"row_heading level0 row2\" >seasons</th>\n",
       "      <td id=\"T_1ac26_row2_col0\" class=\"data row2 col0\" >-0.504407</td>\n",
       "      <td id=\"T_1ac26_row2_col1\" class=\"data row2 col1\" >-0.139642</td>\n",
       "      <td id=\"T_1ac26_row2_col2\" class=\"data row2 col2\" >1.000000</td>\n",
       "      <td id=\"T_1ac26_row2_col3\" class=\"data row2 col3\" >0.106806</td>\n",
       "      <td id=\"T_1ac26_row2_col4\" class=\"data row2 col4\" >0.206079</td>\n",
       "      <td id=\"T_1ac26_row2_col5\" class=\"data row2 col5\" >0.168051</td>\n",
       "      <td id=\"T_1ac26_row2_col6\" class=\"data row2 col6\" >0.044023</td>\n",
       "    </tr>\n",
       "    <tr>\n",
       "      <th id=\"T_1ac26_level0_row3\" class=\"row_heading level0 row3\" >imdb_score</th>\n",
       "      <td id=\"T_1ac26_row3_col0\" class=\"data row3 col0\" >-0.129380</td>\n",
       "      <td id=\"T_1ac26_row3_col1\" class=\"data row3 col1\" >-0.148068</td>\n",
       "      <td id=\"T_1ac26_row3_col2\" class=\"data row3 col2\" >0.106806</td>\n",
       "      <td id=\"T_1ac26_row3_col3\" class=\"data row3 col3\" >1.000000</td>\n",
       "      <td id=\"T_1ac26_row3_col4\" class=\"data row3 col4\" >0.190661</td>\n",
       "      <td id=\"T_1ac26_row3_col5\" class=\"data row3 col5\" >0.017675</td>\n",
       "      <td id=\"T_1ac26_row3_col6\" class=\"data row3 col6\" >0.570754</td>\n",
       "    </tr>\n",
       "    <tr>\n",
       "      <th id=\"T_1ac26_level0_row4\" class=\"row_heading level0 row4\" >imdb_votes</th>\n",
       "      <td id=\"T_1ac26_row4_col0\" class=\"data row4 col0\" >-0.208815</td>\n",
       "      <td id=\"T_1ac26_row4_col1\" class=\"data row4 col1\" >0.139760</td>\n",
       "      <td id=\"T_1ac26_row4_col2\" class=\"data row4 col2\" >0.206079</td>\n",
       "      <td id=\"T_1ac26_row4_col3\" class=\"data row4 col3\" >0.190661</td>\n",
       "      <td id=\"T_1ac26_row4_col4\" class=\"data row4 col4\" >1.000000</td>\n",
       "      <td id=\"T_1ac26_row4_col5\" class=\"data row4 col5\" >0.209763</td>\n",
       "      <td id=\"T_1ac26_row4_col6\" class=\"data row4 col6\" >0.112960</td>\n",
       "    </tr>\n",
       "    <tr>\n",
       "      <th id=\"T_1ac26_level0_row5\" class=\"row_heading level0 row5\" >tmdb_popularity</th>\n",
       "      <td id=\"T_1ac26_row5_col0\" class=\"data row5 col0\" >0.043244</td>\n",
       "      <td id=\"T_1ac26_row5_col1\" class=\"data row5 col1\" >0.002545</td>\n",
       "      <td id=\"T_1ac26_row5_col2\" class=\"data row5 col2\" >0.168051</td>\n",
       "      <td id=\"T_1ac26_row5_col3\" class=\"data row5 col3\" >0.017675</td>\n",
       "      <td id=\"T_1ac26_row5_col4\" class=\"data row5 col4\" >0.209763</td>\n",
       "      <td id=\"T_1ac26_row5_col5\" class=\"data row5 col5\" >1.000000</td>\n",
       "      <td id=\"T_1ac26_row5_col6\" class=\"data row5 col6\" >0.071894</td>\n",
       "    </tr>\n",
       "    <tr>\n",
       "      <th id=\"T_1ac26_level0_row6\" class=\"row_heading level0 row6\" >tmdb_score</th>\n",
       "      <td id=\"T_1ac26_row6_col0\" class=\"data row6 col0\" >0.032073</td>\n",
       "      <td id=\"T_1ac26_row6_col1\" class=\"data row6 col1\" >-0.277454</td>\n",
       "      <td id=\"T_1ac26_row6_col2\" class=\"data row6 col2\" >0.044023</td>\n",
       "      <td id=\"T_1ac26_row6_col3\" class=\"data row6 col3\" >0.570754</td>\n",
       "      <td id=\"T_1ac26_row6_col4\" class=\"data row6 col4\" >0.112960</td>\n",
       "      <td id=\"T_1ac26_row6_col5\" class=\"data row6 col5\" >0.071894</td>\n",
       "      <td id=\"T_1ac26_row6_col6\" class=\"data row6 col6\" >1.000000</td>\n",
       "    </tr>\n",
       "  </tbody>\n",
       "</table>\n"
      ],
      "text/plain": [
       "<pandas.io.formats.style.Styler at 0x1b7bb38e670>"
      ]
     },
     "execution_count": 5,
     "metadata": {},
     "output_type": "execute_result"
    }
   ],
   "source": [
    "# Correlation between features\n",
    "corr =  df.corr()\n",
    "corr.style.background_gradient(cmap='Reds')"
   ]
  },
  {
   "cell_type": "markdown",
   "metadata": {
    "id": "DDl_TYG1Vg3h"
   },
   "source": [
    "#Data Cleaning\n",
    "##### A. Removing rows with imcompete datas (IE, missing votes/ ratings)\n",
    "##### B. Removing columns that wont be utilized in order to make data set easier to read(runtime, age_cert, seasons, etc)\n",
    "##### C. Reducing \"genres\" and \"production_countries\" to one tag."
   ]
  },
  {
   "cell_type": "code",
   "execution_count": 6,
   "metadata": {
    "colab": {
     "base_uri": "https://localhost:8080/",
     "height": 200
    },
    "id": "hqorvFUTSG6e",
    "outputId": "ff8db0b4-6b49-4647-ad41-bdaaf240dd24"
   },
   "outputs": [],
   "source": [
    "# Dropping columns we do not need first \n",
    "# columns = ID, Age, Runtime, Seasons, IMDB_ID)\n",
    "\n",
    "df = df.drop(columns=[\"id\", \"age_certification\",\"runtime\", \"seasons\", \"imdb_id\"])\n"
   ]
  },
  {
   "cell_type": "code",
   "execution_count": 7,
   "metadata": {
    "id": "k9-RaHHWTMyL"
   },
   "outputs": [
    {
     "name": "stdout",
     "output_type": "stream",
     "text": [
      "Any duplicate values? False\n",
      "Any missing value? True\n",
      "title                   0\n",
      "type                    0\n",
      "description             0\n",
      "release_year            0\n",
      "genres                  0\n",
      "production_countries    0\n",
      "imdb_score              0\n",
      "imdb_votes              0\n",
      "tmdb_popularity         0\n",
      "tmdb_score              0\n",
      "dtype: int64\n"
     ]
    }
   ],
   "source": [
    "# Checking for duplicate values, then removing them. \n",
    "dup_df = df.duplicated().any()\n",
    "print(\"Any duplicate values?\", dup_df) # returns False \n",
    "\n",
    "# Checking for missing values, then removing them. \n",
    "print(\"Any missing value?\", df.isnull().values.any()) # returns True \n",
    "df.dropna(axis = 0, inplace= True)\n",
    "print(df.isnull().sum())\n"
   ]
  },
  {
   "cell_type": "code",
   "execution_count": 8,
   "metadata": {
    "id": "ACoqgIx6TThH"
   },
   "outputs": [],
   "source": [
    "# Filtering dataset to movies that were released after 2010.\n",
    "# The purpose of this is to reduce dataset to more relevant information \n",
    "#df = df[df['release_year'] > 2010]"
   ]
  },
  {
   "cell_type": "code",
   "execution_count": 9,
   "metadata": {
    "id": "p79LAzbrvztW"
   },
   "outputs": [
    {
     "data": {
      "text/html": [
       "<div>\n",
       "<style scoped>\n",
       "    .dataframe tbody tr th:only-of-type {\n",
       "        vertical-align: middle;\n",
       "    }\n",
       "\n",
       "    .dataframe tbody tr th {\n",
       "        vertical-align: top;\n",
       "    }\n",
       "\n",
       "    .dataframe thead th {\n",
       "        text-align: right;\n",
       "    }\n",
       "</style>\n",
       "<table border=\"1\" class=\"dataframe\">\n",
       "  <thead>\n",
       "    <tr style=\"text-align: right;\">\n",
       "      <th></th>\n",
       "      <th>title</th>\n",
       "      <th>type</th>\n",
       "      <th>description</th>\n",
       "      <th>release_year</th>\n",
       "      <th>genres</th>\n",
       "      <th>imdb_score</th>\n",
       "      <th>imdb_votes</th>\n",
       "      <th>tmdb_popularity</th>\n",
       "      <th>tmdb_score</th>\n",
       "      <th>production_countries</th>\n",
       "    </tr>\n",
       "  </thead>\n",
       "  <tbody>\n",
       "    <tr>\n",
       "      <th>1</th>\n",
       "      <td>Taxi Driver</td>\n",
       "      <td>MOVIE</td>\n",
       "      <td>A mentally unstable Vietnam War veteran works ...</td>\n",
       "      <td>1976</td>\n",
       "      <td>['drama', 'crime']</td>\n",
       "      <td>8.2</td>\n",
       "      <td>808582.0</td>\n",
       "      <td>40.965</td>\n",
       "      <td>8.179</td>\n",
       "      <td>US</td>\n",
       "    </tr>\n",
       "    <tr>\n",
       "      <th>2</th>\n",
       "      <td>Deliverance</td>\n",
       "      <td>MOVIE</td>\n",
       "      <td>Intent on seeing the Cahulawassee River before...</td>\n",
       "      <td>1972</td>\n",
       "      <td>['drama', 'action', 'thriller', 'european']</td>\n",
       "      <td>7.7</td>\n",
       "      <td>107673.0</td>\n",
       "      <td>10.010</td>\n",
       "      <td>7.300</td>\n",
       "      <td>US</td>\n",
       "    </tr>\n",
       "    <tr>\n",
       "      <th>3</th>\n",
       "      <td>Monty Python and the Holy Grail</td>\n",
       "      <td>MOVIE</td>\n",
       "      <td>King Arthur, accompanied by his squire, recrui...</td>\n",
       "      <td>1975</td>\n",
       "      <td>['fantasy', 'action', 'comedy']</td>\n",
       "      <td>8.2</td>\n",
       "      <td>534486.0</td>\n",
       "      <td>15.461</td>\n",
       "      <td>7.811</td>\n",
       "      <td>GB</td>\n",
       "    </tr>\n",
       "    <tr>\n",
       "      <th>4</th>\n",
       "      <td>The Dirty Dozen</td>\n",
       "      <td>MOVIE</td>\n",
       "      <td>12 American military prisoners in World War II...</td>\n",
       "      <td>1967</td>\n",
       "      <td>['war', 'action']</td>\n",
       "      <td>7.7</td>\n",
       "      <td>72662.0</td>\n",
       "      <td>20.398</td>\n",
       "      <td>7.600</td>\n",
       "      <td>GB</td>\n",
       "    </tr>\n",
       "    <tr>\n",
       "      <th>5</th>\n",
       "      <td>Monty Python's Flying Circus</td>\n",
       "      <td>SHOW</td>\n",
       "      <td>A British sketch comedy series with the shows ...</td>\n",
       "      <td>1969</td>\n",
       "      <td>['comedy', 'european']</td>\n",
       "      <td>8.8</td>\n",
       "      <td>73424.0</td>\n",
       "      <td>17.617</td>\n",
       "      <td>8.306</td>\n",
       "      <td>GB</td>\n",
       "    </tr>\n",
       "  </tbody>\n",
       "</table>\n",
       "</div>"
      ],
      "text/plain": [
       "                             title   type  \\\n",
       "1                      Taxi Driver  MOVIE   \n",
       "2                      Deliverance  MOVIE   \n",
       "3  Monty Python and the Holy Grail  MOVIE   \n",
       "4                  The Dirty Dozen  MOVIE   \n",
       "5     Monty Python's Flying Circus   SHOW   \n",
       "\n",
       "                                         description  release_year  \\\n",
       "1  A mentally unstable Vietnam War veteran works ...          1976   \n",
       "2  Intent on seeing the Cahulawassee River before...          1972   \n",
       "3  King Arthur, accompanied by his squire, recrui...          1975   \n",
       "4  12 American military prisoners in World War II...          1967   \n",
       "5  A British sketch comedy series with the shows ...          1969   \n",
       "\n",
       "                                        genres  imdb_score  imdb_votes  \\\n",
       "1                           ['drama', 'crime']         8.2    808582.0   \n",
       "2  ['drama', 'action', 'thriller', 'european']         7.7    107673.0   \n",
       "3              ['fantasy', 'action', 'comedy']         8.2    534486.0   \n",
       "4                            ['war', 'action']         7.7     72662.0   \n",
       "5                       ['comedy', 'european']         8.8     73424.0   \n",
       "\n",
       "   tmdb_popularity  tmdb_score production_countries  \n",
       "1           40.965       8.179                   US  \n",
       "2           10.010       7.300                   US  \n",
       "3           15.461       7.811                   GB  \n",
       "4           20.398       7.600                   GB  \n",
       "5           17.617       8.306                   GB  "
      ]
     },
     "execution_count": 9,
     "metadata": {},
     "output_type": "execute_result"
    }
   ],
   "source": [
    "# Cleaning the production_countries for readability\n",
    "# Some title's have multiple production countries \n",
    "df['production_countries'] = df['production_countries'].str.replace(r\"[\", '').str.replace(r\"'\", '').str.replace(r\"]\", '')\n",
    "df['production_countries_2'] = df['production_countries'].str.split(',').str[0]\n",
    "df.production_countries_2 = df.production_countries_2.replace('', np.nan)\n",
    "\n",
    "#Dropping orginal production_countries column, renaming the second one\n",
    "df.drop('production_countries', axis=1, inplace=True)\n",
    "df.rename(columns={'production_countries_2': 'production_countries'}, inplace=True)\n",
    "df.head()\n"
   ]
  },
  {
   "cell_type": "markdown",
   "metadata": {
    "id": "bRSJk7cYrSKO"
   },
   "source": [
    "Pre-processing/Cleaning for Genre analysis below "
   ]
  },
  {
   "cell_type": "code",
   "execution_count": 10,
   "metadata": {
    "colab": {
     "base_uri": "https://localhost:8080/",
     "height": 217
    },
    "id": "_i5xrnO2raxW",
    "outputId": "cfda876a-6379-4fe4-b6ad-6dd7751e90ba"
   },
   "outputs": [
    {
     "data": {
      "text/plain": [
       "['comedy']                                   423\n",
       "['documentation']                            240\n",
       "['drama']                                    230\n",
       "['drama', 'romance']                         118\n",
       "['comedy', 'drama']                          114\n",
       "                                            ... \n",
       "['horror', 'fantasy', 'thriller']              1\n",
       "['drama', 'action', 'war', 'history']          1\n",
       "['scifi', 'crime', 'drama', 'thriller']        1\n",
       "['drama', 'animation', 'family', 'music']      1\n",
       "['animation', 'family', 'scifi']               1\n",
       "Name: genres, Length: 1675, dtype: int64"
      ]
     },
     "execution_count": 10,
     "metadata": {},
     "output_type": "execute_result"
    }
   ],
   "source": [
    "df['genres'].value_counts()\n",
    "\n",
    "# Due to the structure of the data, the method cannot parse the values in the most fitting manner. \n",
    "# We must parse the genres ourselves. "
   ]
  },
  {
   "cell_type": "code",
   "execution_count": 11,
   "metadata": {
    "id": "PLWobbITrsYS"
   },
   "outputs": [
    {
     "data": {
      "text/plain": [
       "drama            1261\n",
       "comedy           1192\n",
       "documentation     547\n",
       "thriller          343\n",
       "action            328\n",
       "animation         242\n",
       "scifi             222\n",
       "crime             220\n",
       "romance           210\n",
       "reality           154\n",
       "family            100\n",
       "horror            100\n",
       "fantasy            79\n",
       "music              47\n",
       "war                42\n",
       "history            21\n",
       "western            15\n",
       "sport               4\n",
       "none                2\n",
       "Name: genres_transformed, dtype: int64"
      ]
     },
     "execution_count": 11,
     "metadata": {},
     "output_type": "execute_result"
    }
   ],
   "source": [
    "# Modifying the get_genres function to transform the original columns\n",
    "# We will only use the first element of each value in the genres column\n",
    "# The first genre seems to be the one that represents the movie/show the most\n",
    "\n",
    "def transform_genres(row):\n",
    "    parsed = (str(row)[1:-1]).split(\",\")\n",
    "    genres = {}\n",
    "\n",
    "    for i in range(len(parsed)):\n",
    "        genre = parsed[i].strip()[1:-1]\n",
    "        if genre != '':\n",
    "            if genre not in genres.keys():\n",
    "                genres[genre] = 0\n",
    "            genres[genre] += 1\n",
    "\n",
    "    return max(genres, key=genres.get) if genres else 'none'\n",
    "\n",
    "\n",
    "# Preforming the transformation \n",
    "df['genres_transformed'] = df['genres'].map(transform_genres)\n",
    "df['genres_transformed'].value_counts()"
   ]
  },
  {
   "cell_type": "code",
   "execution_count": 12,
   "metadata": {
    "id": "hLZdU0v-rdt7"
   },
   "outputs": [
    {
     "data": {
      "text/plain": [
       "{'drama': 2719,\n",
       " 'crime': 892,\n",
       " 'action': 1074,\n",
       " 'thriller': 1153,\n",
       " 'european': 423,\n",
       " 'fantasy': 608,\n",
       " 'comedy': 2145,\n",
       " 'war': 150,\n",
       " 'romance': 927,\n",
       " 'western': 38,\n",
       " 'documentation': 824,\n",
       " 'history': 248,\n",
       " 'music': 232,\n",
       " 'family': 636,\n",
       " 'horror': 357,\n",
       " 'scifi': 545,\n",
       " 'animation': 585,\n",
       " 'reality': 209,\n",
       " 'sport': 167,\n",
       " '': 1}"
      ]
     },
     "execution_count": 12,
     "metadata": {},
     "output_type": "execute_result"
    }
   ],
   "source": [
    "# Parse genre column and function \n",
    "genres = {}\n",
    "\n",
    "def get_genres(row):\n",
    "  parsed = (str(row)[1:-1]).split(\",\")\n",
    "\n",
    "  for i in range(len(parsed)):\n",
    "    parsed[i] = parsed[i].strip()\n",
    "    parsed[i] = parsed[i][1:-1]\n",
    "\n",
    "  for i in parsed:\n",
    "    if i not in genres.keys():\n",
    "      genres[i] = 0\n",
    "      continue\n",
    "    genres[i] += 1\n",
    "\n",
    "  return row\n",
    "\n",
    "df['genres'] = df['genres'].map(get_genres)\n",
    "genres"
   ]
  },
  {
   "cell_type": "code",
   "execution_count": 13,
   "metadata": {
    "id": "bB8KN8l8wuKE"
   },
   "outputs": [
    {
     "data": {
      "text/html": [
       "<div>\n",
       "<style scoped>\n",
       "    .dataframe tbody tr th:only-of-type {\n",
       "        vertical-align: middle;\n",
       "    }\n",
       "\n",
       "    .dataframe tbody tr th {\n",
       "        vertical-align: top;\n",
       "    }\n",
       "\n",
       "    .dataframe thead th {\n",
       "        text-align: right;\n",
       "    }\n",
       "</style>\n",
       "<table border=\"1\" class=\"dataframe\">\n",
       "  <thead>\n",
       "    <tr style=\"text-align: right;\">\n",
       "      <th></th>\n",
       "      <th>title</th>\n",
       "      <th>type</th>\n",
       "      <th>description</th>\n",
       "      <th>release_year</th>\n",
       "      <th>imdb_score</th>\n",
       "      <th>imdb_votes</th>\n",
       "      <th>tmdb_popularity</th>\n",
       "      <th>tmdb_score</th>\n",
       "      <th>production_countries</th>\n",
       "      <th>genres</th>\n",
       "    </tr>\n",
       "  </thead>\n",
       "  <tbody>\n",
       "    <tr>\n",
       "      <th>1</th>\n",
       "      <td>Taxi Driver</td>\n",
       "      <td>MOVIE</td>\n",
       "      <td>A mentally unstable Vietnam War veteran works ...</td>\n",
       "      <td>1976</td>\n",
       "      <td>8.2</td>\n",
       "      <td>808582.0</td>\n",
       "      <td>40.965</td>\n",
       "      <td>8.179</td>\n",
       "      <td>US</td>\n",
       "      <td>drama</td>\n",
       "    </tr>\n",
       "    <tr>\n",
       "      <th>2</th>\n",
       "      <td>Deliverance</td>\n",
       "      <td>MOVIE</td>\n",
       "      <td>Intent on seeing the Cahulawassee River before...</td>\n",
       "      <td>1972</td>\n",
       "      <td>7.7</td>\n",
       "      <td>107673.0</td>\n",
       "      <td>10.010</td>\n",
       "      <td>7.300</td>\n",
       "      <td>US</td>\n",
       "      <td>drama</td>\n",
       "    </tr>\n",
       "    <tr>\n",
       "      <th>3</th>\n",
       "      <td>Monty Python and the Holy Grail</td>\n",
       "      <td>MOVIE</td>\n",
       "      <td>King Arthur, accompanied by his squire, recrui...</td>\n",
       "      <td>1975</td>\n",
       "      <td>8.2</td>\n",
       "      <td>534486.0</td>\n",
       "      <td>15.461</td>\n",
       "      <td>7.811</td>\n",
       "      <td>GB</td>\n",
       "      <td>fantasy</td>\n",
       "    </tr>\n",
       "    <tr>\n",
       "      <th>4</th>\n",
       "      <td>The Dirty Dozen</td>\n",
       "      <td>MOVIE</td>\n",
       "      <td>12 American military prisoners in World War II...</td>\n",
       "      <td>1967</td>\n",
       "      <td>7.7</td>\n",
       "      <td>72662.0</td>\n",
       "      <td>20.398</td>\n",
       "      <td>7.600</td>\n",
       "      <td>GB</td>\n",
       "      <td>war</td>\n",
       "    </tr>\n",
       "    <tr>\n",
       "      <th>5</th>\n",
       "      <td>Monty Python's Flying Circus</td>\n",
       "      <td>SHOW</td>\n",
       "      <td>A British sketch comedy series with the shows ...</td>\n",
       "      <td>1969</td>\n",
       "      <td>8.8</td>\n",
       "      <td>73424.0</td>\n",
       "      <td>17.617</td>\n",
       "      <td>8.306</td>\n",
       "      <td>GB</td>\n",
       "      <td>comedy</td>\n",
       "    </tr>\n",
       "  </tbody>\n",
       "</table>\n",
       "</div>"
      ],
      "text/plain": [
       "                             title   type  \\\n",
       "1                      Taxi Driver  MOVIE   \n",
       "2                      Deliverance  MOVIE   \n",
       "3  Monty Python and the Holy Grail  MOVIE   \n",
       "4                  The Dirty Dozen  MOVIE   \n",
       "5     Monty Python's Flying Circus   SHOW   \n",
       "\n",
       "                                         description  release_year  \\\n",
       "1  A mentally unstable Vietnam War veteran works ...          1976   \n",
       "2  Intent on seeing the Cahulawassee River before...          1972   \n",
       "3  King Arthur, accompanied by his squire, recrui...          1975   \n",
       "4  12 American military prisoners in World War II...          1967   \n",
       "5  A British sketch comedy series with the shows ...          1969   \n",
       "\n",
       "   imdb_score  imdb_votes  tmdb_popularity  tmdb_score production_countries  \\\n",
       "1         8.2    808582.0           40.965       8.179                   US   \n",
       "2         7.7    107673.0           10.010       7.300                   US   \n",
       "3         8.2    534486.0           15.461       7.811                   GB   \n",
       "4         7.7     72662.0           20.398       7.600                   GB   \n",
       "5         8.8     73424.0           17.617       8.306                   GB   \n",
       "\n",
       "    genres  \n",
       "1    drama  \n",
       "2    drama  \n",
       "3  fantasy  \n",
       "4      war  \n",
       "5   comedy  "
      ]
     },
     "execution_count": 13,
     "metadata": {},
     "output_type": "execute_result"
    }
   ],
   "source": [
    "#Dropping orginal genres column, renaming the transformed one\n",
    "df.drop('genres', axis=1, inplace=True)\n",
    "df.rename(columns={'genres_transformed': 'genres'}, inplace=True)\n",
    "df.head()"
   ]
  },
  {
   "cell_type": "markdown",
   "metadata": {
    "id": "NYu-o4YZVns3"
   },
   "source": [
    "#Exploratory Data Analysis - EDA"
   ]
  },
  {
   "cell_type": "code",
   "execution_count": 14,
   "metadata": {
    "colab": {
     "base_uri": "https://localhost:8080/",
     "height": 784
    },
    "id": "UTPgg3uYT973",
    "outputId": "361e9587-cb87-4c71-89a5-f8af1d9e1551"
   },
   "outputs": [
    {
     "data": {
      "text/plain": [
       "<Figure size 1080x720 with 0 Axes>"
      ]
     },
     "metadata": {},
     "output_type": "display_data"
    },
    {
     "data": {
      "image/png": "[encoded data removed]",
      "text/plain": [
       "<Figure size 864x432 with 2 Axes>"
      ]
     },
     "metadata": {
      "needs_background": "light"
     },
     "output_type": "display_data"
    }
   ],
   "source": [
    "# Pie/Bar Charts of the dataset types \n",
    "types = df.groupby('type').size().reset_index().rename(columns = {0:'counts'})\n",
    "types\n",
    "\n",
    "def figure_size():\n",
    "    f = plt.figure()\n",
    "    f.set_figwidth(15)\n",
    "    f.set_figheight(10)\n",
    "    font = {'family' : 'normal','size'   : 13}\n",
    "\n",
    "figure_size()\n",
    "langs= types.type\n",
    "fig, axes = plt.subplots(1,2, figsize=(12,6))\n",
    "plt.tight_layout(pad=2)\n",
    "sns.set_style(\"darkgrid\")\n",
    "a1=sns.barplot(x = types.type,y = types.counts,ax=axes[0], palette='Reds');\n",
    "a1.set(xlabel='Types', ylabel='Counts')\n",
    "plt.pie(types.counts,autopct='%1.2f%%',labels = langs,radius=1.5,labeldistance=1.1 ,   rotatelabels=True, colors=['#C70039', '#FF5733'])\n",
    "plt.legend()\n",
    "plt.show()"
   ]
  },
  {
   "cell_type": "code",
   "execution_count": 15,
   "metadata": {
    "colab": {
     "base_uri": "https://localhost:8080/"
    },
    "id": "U35Hszs1xiJM",
    "outputId": "ab3b6c36-787b-445d-eab6-77c31b76f489"
   },
   "outputs": [
    {
     "name": "stdout",
     "output_type": "stream",
     "text": [
      "3270\n",
      "1859\n"
     ]
    }
   ],
   "source": [
    "movie_df = df[df['type'] == 'MOVIE']\n",
    "show_df = df[df['type'] == 'SHOW']\n",
    "\n",
    "movie_count = movie_df['title'].count()\n",
    "show_count = show_df['title'].count()\n",
    "\n",
    "print(movie_count)\n",
    "print(show_count)"
   ]
  },
  {
   "cell_type": "code",
   "execution_count": 16,
   "metadata": {
    "colab": {
     "base_uri": "https://localhost:8080/",
     "height": 645
    },
    "id": "oOcZrGaYWp4O",
    "outputId": "6b8faa7d-61cd-4cc9-ee97-9d9c2fc2ceb4"
   },
   "outputs": [
    {
     "data": {
      "image/png": "[encoded data removed]",
      "text/plain": [
       "<Figure size 720x432 with 1 Axes>"
      ]
     },
     "metadata": {},
     "output_type": "display_data"
    }
   ],
   "source": [
    "# A Bar chart that answer's the question: Which country produces the most content on Netflix?\n",
    "\n",
    "df_country = pd.DataFrame(df.production_countries.value_counts()).head(10)\n",
    "order = df_country.index\n",
    "plt.figure(figsize=(10,6))\n",
    "plt.title('\\nTop 10 Countries by Amount of Movies\\n', fontsize=18)\n",
    "sns.countplot(y=df.production_countries, order=order)\n",
    "plt.xlabel('Movie Count')\n",
    "plt.ylabel('Country')\"\n",
    "plt.show()\n",
    "\n",
    "#Analysis: Countries of movie production"
   ]
  },
  {
   "cell_type": "code",
   "execution_count": 41,
   "metadata": {},
   "outputs": [
    {
     "data": {
      "image/png": "[encoded data removed]",
      "text/plain": [
       "<Figure size 864x576 with 1 Axes>"
      ]
     },
     "metadata": {},
     "output_type": "display_data"
    }
   ],
   "source": [
    "top_10_countries = df['production_countries'].value_counts().head(10)\n",
    "top_10_countries = top_10_countries.sort_values(ascending=False)\n",
    "top_10_countries = top_10_countries.index.tolist()\n",
    "\n",
    "df_top_10 = df[df['production_countries'].isin(top_10_countries)]\n",
    "\n",
    "avg_scores_by_country = df_top_10.groupby('production_countries')['imdb_score'].mean()\n",
    "\n",
    "avg_scores_by_country = avg_scores_by_country.sort_values(ascending=False)\n",
    "\n",
    "plt.figure(figsize=(12,8))\n",
    "sns.set_palette('Reds_r')\n",
    "sns.barplot(avg_scores_by_country.index, avg_scores_by_country.values, palette='Reds_r')\n",
    "plt.title('Average IMDB Score by Top 10 Producing Countries')\n",
    "plt.xlabel('Country')\n",
    "sns.set_palette('Reds_r')\n",
    "plt.xticks(rotation=45)\n",
    "plt.ylabel('Average IMDB Score')\n",
    "plt.show()"
   ]
  },
  {
   "cell_type": "code",
   "execution_count": 43,
   "metadata": {},
   "outputs": [
    {
     "name": "stdout",
     "output_type": "stream",
     "text": [
      "production_countries\n",
      "KR    7.236316\n",
      "JP    7.023045\n",
      "GB    6.862454\n",
      "US    6.541457\n",
      "IN    6.410612\n",
      "CA    6.403205\n",
      "FR    6.373077\n",
      "ES    6.366467\n",
      "MX    6.358416\n",
      "BR    6.101124\n",
      "Name: imdb_score, dtype: float64\n"
     ]
    }
   ],
   "source": [
    "print(avg_scores_by_country)"
   ]
  },
  {
   "cell_type": "code",
   "execution_count": null,
   "metadata": {
    "colab": {
     "base_uri": "https://localhost:8080/",
     "height": 183
    },
    "id": "OS2hwDC7VxgK",
    "outputId": "9284ee52-b39e-47cb-b416-d4106c4290b3"
   },
   "outputs": [],
   "source": [
    "df_country = pd.DataFrame(df.production_countries.value_counts()).head(10)\n",
    "print(df_country)"
   ]
  },
  {
   "cell_type": "code",
   "execution_count": 44,
   "metadata": {
    "colab": {
     "base_uri": "https://localhost:8080/"
    },
    "id": "5rCaP9--ypO2",
    "outputId": "0ddf9b5d-6e0b-4e0d-e074-37eddc5723a1"
   },
   "outputs": [
    {
     "name": "stdout",
     "output_type": "stream",
     "text": [
      "1908\n",
      "556\n",
      "269\n"
     ]
    }
   ],
   "source": [
    "US_df = df[df['production_countries'] == 'US']\n",
    "IN_df = df[df['production_countries'] == 'IN']\n",
    "GB_df = df[df['production_countries'] == 'GB']\n",
    "\n",
    "US_count = US_df['title'].count()\n",
    "IN_count = IN_df['title'].count()\n",
    "GB_count = GB_df['title'].count()\n",
    "\n",
    "print(US_count)\n",
    "print(IN_count)\n",
    "print(GB_count)"
   ]
  },
  {
   "cell_type": "code",
   "execution_count": null,
   "metadata": {
    "colab": {
     "base_uri": "https://localhost:8080/",
     "height": 888
    },
    "id": "XJo9vL9osMDg",
    "outputId": "05c7dcc5-9c9f-454c-8712-7ca2e803dc63"
   },
   "outputs": [],
   "source": [
    "#Distribution of Genres\n",
    "\n",
    "df['genres'].replace(to_replace='documentation', value='documentary', inplace=True)\n",
    "filtered_df = df[df['genres'] != 'none']\n",
    "plt.figure(figsize=(20,10))\n",
    "sns.countplot(data=filtered_df, y='genres', palette='Reds_r', order=df['genres'].value_counts().index)\n"
   ]
  },
  {
   "cell_type": "code",
   "execution_count": null,
   "metadata": {
    "colab": {
     "base_uri": "https://localhost:8080/"
    },
    "id": "Z3Kx3eVT6SoN",
    "outputId": "b98ef841-1747-406e-bf68-7555fbe1808c"
   },
   "outputs": [],
   "source": [
    "drama_df = df[df['genres'] == 'drama']\n",
    "comedy_df = df[df['genres'] == 'comedy']\n",
    "doc_df = df[df['genres'] == 'documentary']\n",
    "\n",
    "drama_count = drama_df['title'].count()\n",
    "comedy_count = comedy_df['title'].count()\n",
    "doc_count = doc_df['title'].count()\n",
    "\n",
    "print(drama_count)\n",
    "print(comedy_count)\n",
    "print(doc_count)"
   ]
  },
  {
   "cell_type": "code",
   "execution_count": null,
   "metadata": {
    "colab": {
     "base_uri": "https://localhost:8080/",
     "height": 572
    },
    "id": "PGhVsVSesdPe",
    "outputId": "7b9e8cbb-5cfd-438e-d7a6-37977ff6a863"
   },
   "outputs": [],
   "source": [
    "# Amount of movies based on release_year\n",
    "sns.displot(data=df, x='release_year', kind='hist', kde=True,\n",
    "            color='#fdc100', facecolor='red', edgecolor='#64b6ac', line_kws={'lw': 3}, aspect=3)\n",
    "plt.title('Total Released Content by Year', fontsize=18, weight=600, color='#333d29')"
   ]
  },
  {
   "cell_type": "code",
   "execution_count": null,
   "metadata": {
    "colab": {
     "base_uri": "https://localhost:8080/"
    },
    "id": "mHGKU8K1MJnh",
    "outputId": "15f69008-f1fd-4d6b-9b03-23953faa2141"
   },
   "outputs": [],
   "source": [
    "max_df = df[df['release_year'] == 2019]\n",
    "max_count = max_df['title'].count()\n",
    "print(max_count)"
   ]
  },
  {
   "cell_type": "code",
   "execution_count": null,
   "metadata": {
    "colab": {
     "base_uri": "https://localhost:8080/"
    },
    "id": "aJeYA7tE38vn",
    "outputId": "550c9a03-8968-4e87-c29a-4b6d2ff14f9d"
   },
   "outputs": [],
   "source": [
    "# Get the minimum release year\n",
    "min_release_year = df['release_year'].min()\n",
    "print(min_release_year)\n",
    "\n",
    "min_df = df[df['release_year'] == 1954]\n",
    "min_count = min_df['title'].count()\n",
    "\n",
    "print(min_count)"
   ]
  },
  {
   "cell_type": "markdown",
   "metadata": {
    "id": "H9u0vGCosTRW"
   },
   "source": [
    "#Data Analytics Techniques: Natural Language Processing \n"
   ]
  },
  {
   "cell_type": "code",
   "execution_count": null,
   "metadata": {
    "id": "wHIAODwIVknd"
   },
   "outputs": [],
   "source": [
    "df2 = df.copy()\n",
    "\n",
    "df2 = df[df[\"type\"] == \"MOVIE\"].reset_index(drop=True)\n",
    "\n",
    "df2.shape"
   ]
  },
  {
   "cell_type": "code",
   "execution_count": null,
   "metadata": {
    "id": "C10-OlOQs5WZ"
   },
   "outputs": [],
   "source": [
    "#Defining NLP functions \n",
    "\n",
    "#Function to remove punctuation\n",
    "def remove_punc(text):\n",
    "    text = text.translate(str.maketrans('', '', string.punctuation))\n",
    "    return text\n",
    "\n",
    "#Function to remove all capitalizations\n",
    "def go_lower(text):\n",
    "    text = text.lower()\n",
    "    return text\n",
    "\n",
    "#Function to clean and remove all emojis, special characters etc\n",
    "from cleantext import clean\n",
    "\n",
    "def no_emoji(text):\n",
    "    clean_text = clean(text, no_emoji = True)\n",
    "    return clean_text"
   ]
  },
  {
   "cell_type": "code",
   "execution_count": null,
   "metadata": {
    "id": "q8z9NuXSutPf"
   },
   "outputs": [],
   "source": [
    "#Function implementation (con't)\n",
    "nltk.download('stopwords')\n",
    "nltk.download('punkt')\n",
    "nltk.download('averaged_perceptron_tagger')\n",
    "nltk.download('wordnet')\n",
    "nltk.download('omw-1.4')\n",
    "\n",
    "# Function to remove stopwords \n",
    "def remove_stops(text):\n",
    "    stop_words = set(stopwords.words(\"english\"))\n",
    "    word_tokens = word_tokenize(text)\n",
    "    filtered_sentence = [w for w in word_tokens if not w.lower() in stop_words]\n",
    "    filtered_sentence_str = ' '.join(filtered_sentence)\n",
    "    return filtered_sentence_str\n",
    "\n",
    "#Function to tokenize\n",
    "def tokenizer(text):\n",
    "    tokens = word_tokenize(text)\n",
    "    return tokens\n",
    "\n",
    "#Function to lemmatize\n",
    "def lemmas(tokens):\n",
    "    lemmatizer = WordNetLemmatizer()\n",
    "    lemmatized = []\n",
    "    for token in tokens:\n",
    "        lemma_word = lemmatizer.lemmatize(token)\n",
    "        lemmatized.append(lemma_word)\n",
    "    return lemmatized\n",
    "    \n",
    "# Function to convert list of tokens to one string of words\n",
    "def list_to_string(data):\n",
    "  data = \" \".join(data)\n",
    "  return data"
   ]
  },
  {
   "cell_type": "code",
   "execution_count": null,
   "metadata": {
    "id": "rBfk72QZwE4_"
   },
   "outputs": [],
   "source": [
    "# Applying NLP Algorithm\n",
    "df2[\"description\"] = df2[\"description\"].apply(no_emoji)\n",
    "df2[\"description\"] = df2[\"description\"].apply(go_lower)\n",
    "df2[\"description\"] = df2[\"description\"].apply(remove_punc)\n",
    "df2[\"description\"] = df2[\"description\"].apply(remove_stops)\n",
    "df2.head(3)\n"
   ]
  },
  {
   "cell_type": "markdown",
   "metadata": {
    "id": "lOqhaQF8snzz"
   },
   "source": [
    "# Intuition behind TF-IDF Vectorizer \n",
    "\n",
    "We take the  movie plot, cleaning them through some NLP techniques and then creating a TFIDF vectors for each plot. Then we get a huge TFIDF matrix from all the movie plots.\n",
    "\n",
    "The TFIDF is a term frequency that counts the number of times each word shows up in the description. But it goes one step further and decreases the importance of highly frequent words in the description. If a word like 'earth' occurs very frequently in many movie plots then it really does not have that much weight and importance. On the other side a word like \"Hobbit\" is a word occuring in very few movies and hence any movies with the word \"Hobbit\" in the plot would generate a very high tfidf score\n",
    "\n",
    "Based on the frequency of each word and the relative importance of the word the TFIDF is calculated and the scores can be structured as vectors \n",
    "\n",
    "\n",
    "\n"
   ]
  },
  {
   "cell_type": "code",
   "execution_count": null,
   "metadata": {
    "id": "hBWRtMjMwrGt"
   },
   "outputs": [],
   "source": [
    "# Creating TF-IDF Vectorizer\n",
    "from sklearn.feature_extraction.text import TfidfVectorizer\n",
    "from sklearn.metrics.pairwise import cosine_similarity\n",
    "from sklearn.metrics.pairwise import linear_kernel\n",
    "\n",
    "# Create TFIDF object instance\n",
    "tfidf = TfidfVectorizer()\n",
    "\n",
    "# Generate the tfidf matrix from the plot descriptions\n",
    "tfidf_matrix = tfidf.fit_transform(df2[\"description\"])\n",
    "\n",
    "# Compute the cosine similarity matrix\n",
    "cosine_sim_tfidf = linear_kernel(tfidf_matrix, tfidf_matrix)"
   ]
  },
  {
   "cell_type": "code",
   "execution_count": null,
   "metadata": {
    "id": "AexnkIyaxWt8"
   },
   "outputs": [],
   "source": [
    "# Recommendation system: Based on the description, what movie/show is most similar? \n",
    "\n",
    "# Create a simple function to extract the necessary info needed from our original dataframe\n",
    "def get_df_info(df,_column, _index):\n",
    "    info = df[_column][_index]\n",
    "    return info\n",
    "\n",
    "def recommendation_engine(movie_title, cosine_similar):\n",
    "    recommended_movies = []\n",
    "    movie_desc_list = []\n",
    "    imdb_ids = []\n",
    "    streaming_platform_list = []\n",
    "    cost_list = []\n",
    "    imdb_score_list = []\n",
    "    \n",
    "    # Obtain the index of our movie title\n",
    "    index = df[df['title'] == movie_title].index[0]\n",
    "    \n",
    "    # Sort through our cosine similarity matrix and find the top 10 values for this specific movie title index\n",
    "    similarity_score = pd.Series(cosine_similar[index]).sort_values(ascending=False)\n",
    "    \n",
    "    # Get index of these films \n",
    "    top_10_content = (similarity_score.iloc[1:11].index)\n",
    "    \n",
    "    # Create a tuple for each film, we use the get_df_info function for ease of use\n",
    "    movie_data = [(get_df_info(df,'title',i), get_df_info(df,'type',i), get_df_info(df,'description',i), get_df_info(df,'release_year',i),\n",
    "                   get_df_info(df,'imdb_score',i), get_df_info(df,'imdb_votes',i)) for i in top_10_content if get_df_info(df,'title',i) != movie_title]\n",
    "\n",
    "    # Append to our empty lists\n",
    "    recommended_movies = [m[0] for m in movie_data]\n",
    "    content_type = [m[1] for m in movie_data]\n",
    "    description = [m[2] for m in movie_data]\n",
    "    release_year = [m[3] for m in movie_data]\n",
    "    imdb_score = [m[4] for m in movie_data]\n",
    "    imdb_votes = [m[5] for m in movie_data]\n",
    "\n",
    "    # Arrange them in a dictionary\n",
    "    recommended_dict = {'Title': recommended_movies, \"Type\": content_type,\"Description\":  description,\n",
    "                        \"Release Year\": release_year, \"imdb_scores\": imdb_score,\"imdb_votes\": imdb_votes}\n",
    "    recommended_df = pd.DataFrame.from_dict(recommended_dict)\n",
    "    \n",
    "    \n",
    "    # Note that sometimes the same content is avilable in multiple streaming services, so we will do a groupby and show all the availabilities\n",
    "    if recommended_df[\"Title\"].duplicated().sum() > 0:\n",
    "        recommended_df  = recommended_df.groupby(\"Movie Name\",as_index = False,sort = False).agg({\"release_year\":lambda x: \", \".join([i for i in x]),\n",
    "                                                                                    \"imdb_score\": lambda y: \", \".join([j for j in y]),\n",
    "                                                                                                 \"Plot\": 'first', \"type\":'first', \"desctiption\": 'max'})\n",
    "    return recommended_df"
   ]
  },
  {
   "cell_type": "code",
   "execution_count": null,
   "metadata": {
    "id": "oWpXQW3Gxe7y"
   },
   "outputs": [],
   "source": [
    "# What happens if we use the Movie 'Taxi Driver' as the recommendation\n",
    "# Withdrew the tmdb_votes/scores for readability \n",
    "recommendation_engine(\"Taxi Driver\", cosine_sim_tfidf)"
   ]
  },
  {
   "cell_type": "code",
   "execution_count": null,
   "metadata": {
    "id": "DiJHs8DqKibX"
   },
   "outputs": [],
   "source": [
    "# What happens if we use the Movie 'NCIS' as the recommendation\n",
    "# Withdrew the tmdb_votes/scores for readability \n",
    "recommendation_engine(\"NCIS\", cosine_sim_tfidf)"
   ]
  },
  {
   "cell_type": "code",
   "execution_count": null,
   "metadata": {
    "id": "TbUv4sWdyP3v"
   },
   "outputs": [],
   "source": [
    "# Results: \n",
    "# It is hard to say if these movie/shows are genuinely alike to Taxi Driver, simply based on the description. \n",
    "\n",
    "#Limitations: \n",
    "  # Time \n",
    "      # With more time, we can invest more into the project -- working on a time crunch \n",
    "  # Computing Power \n",
    "      # Large datasets and larger recommendation models require more computing power/RAM\n",
    "  # Learning Curve \n",
    "      # One-hot encoding the genres \n",
    "      # Working with recommendation models \n",
    "      # Normalizing the votes\n",
    "\n",
    "# In the future: \n",
    "      # A hybrid model may work to include the scores and genres as well\n",
    "          # Possibly by working to one-hot encode the genres  \n",
    "      # Upskilling in NLP may benefit when making recommendation models\n",
    "      # We would also like to investigate the possibility of developing a predictive model that can determine\n",
    "      # the popularity of a TV show or movie onNetflixbased on various features such as its genre, rating,\n",
    "      # country of production and othe relevant factors.\n"
   ]
  },
  {
   "cell_type": "code",
   "execution_count": null,
   "metadata": {
    "id": "3315UfRRDce6"
   },
   "outputs": [],
   "source": [
    " "
   ]
  }
 ],
 "metadata": {
  "colab": {
   "provenance": []
  },
  "kernelspec": {
   "display_name": "Python 3 (ipykernel)",
   "language": "python",
   "name": "python3"
  },
  "language_info": {
   "codemirror_mode": {
    "name": "ipython",
    "version": 3
   },
   "file_extension": ".py",
   "mimetype": "text/x-python",
   "name": "python",
   "nbconvert_exporter": "python",
   "pygments_lexer": "ipython3",
   "version": "3.9.12"
  }
 },
 "nbformat": 4,
 "nbformat_minor": 4
}
